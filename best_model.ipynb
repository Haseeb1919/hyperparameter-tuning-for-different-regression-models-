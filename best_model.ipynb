{
 "cells": [
  {
   "attachments": {},
   "cell_type": "markdown",
   "metadata": {},
   "source": [
    "# **Selecting the best model with with best hyperparameters**"
   ]
  },
  {
   "cell_type": "code",
   "execution_count": 7,
   "metadata": {},
   "outputs": [],
   "source": [
    "import pandas as pd\n",
    "import numpy as np\n",
    "import matplotlib.pyplot as plt\n",
    "import seaborn as sns\n",
    "from sklearn.preprocessing import LabelEncoder\n",
    "\n",
    "from sklearn.model_selection import train_test_split\n",
    "\n",
    "#import required regressor libraries\n",
    "from sklearn.linear_model import  LinearRegression\n",
    "from sklearn.svm import SVR\n",
    "from sklearn.tree import DecisionTreeRegressor\n",
    "from sklearn.ensemble import RandomForestRegressor\n",
    "from sklearn.neighbors import KNeighborsRegressor\n",
    "from sklearn.ensemble import AdaBoostRegressor\n",
    "from sklearn.ensemble import GradientBoostingRegressor\n",
    "\n",
    "from sklearn.model_selection import GridSearchCV\n",
    "#import pipeline\n",
    "from sklearn.pipeline import Pipeline\n",
    "\n",
    "#evaluation metrics\n",
    "from sklearn.metrics import mean_squared_error,mean_absolute_error,r2_score\n",
    "#import preprocessing \n",
    "from sklearn.preprocessing import StandardScaler,MinMaxScaler\n",
    "from sklearn.compose import ColumnTransformer\n",
    "\n"
   ]
  },
  {
   "cell_type": "code",
   "execution_count": 11,
   "metadata": {},
   "outputs": [
    {
     "data": {
      "text/plain": [
       "Index(['total_bill', 'tip', 'sex', 'smoker', 'day', 'time', 'size'], dtype='object')"
      ]
     },
     "execution_count": 11,
     "metadata": {},
     "output_type": "execute_result"
    }
   ],
   "source": [
    "df=sns.load_dataset('tips') \n",
    "\n",
    "df.columns"
   ]
  },
  {
   "attachments": {},
   "cell_type": "markdown",
   "metadata": {},
   "source": [
    "## All this is Regerssion tasks"
   ]
  },
  {
   "cell_type": "code",
   "execution_count": 4,
   "metadata": {},
   "outputs": [],
   "source": [
    "#select feature and variable\n",
    "x=df.drop('price',axis=1)\n",
    "y=df['price']\n",
    "\n",
    "\n",
    "#label encoding(changing categorical data to numerical data)\n",
    "le=LabelEncoder()\n",
    "x['cut']=le.fit_transform(x['cut'])\n",
    "x['color']=le.fit_transform(x['color'])\n",
    "x['clarity']=le.fit_transform(x['clarity'])\n",
    "\n",
    "\n",
    "#split data\n",
    "x_train,x_test,y_train,y_test=train_test_split(x,y,test_size=0.2,random_state=42)\n",
    "\n"
   ]
  },
  {
   "attachments": {},
   "cell_type": "markdown",
   "metadata": {},
   "source": [
    "## Predicting the best model on the base of evaluations"
   ]
  },
  {
   "cell_type": "code",
   "execution_count": 9,
   "metadata": {},
   "outputs": [
    {
     "name": "stdout",
     "output_type": "stream",
     "text": [
      "mean squared error:  1825912.991525348\n"
     ]
    }
   ],
   "source": [
    "# creating a dictionary of models to valuate\n",
    "models = {\n",
    "        'Linear Regression' : LinearRegression(),\n",
    "        'SVR' : SVR(),\n",
    "        'Decision Tree' : DecisionTreeRegressor(),\n",
    "        'Random Forest' : RandomForestRegressor(),\n",
    "        'KNN' : KNeighborsRegressor(),\n",
    "        'AdaBoost' : AdaBoostRegressor(),\n",
    "        'Gradient Boosting' : GradientBoostingRegressor()\n",
    "        }\n",
    "\n",
    "        \n",
    "#train and predict each model with evaluation metric in a for loop and selecting the best model on the basis of each metric\n",
    "metric_values = {}\n",
    "for name , model in models.items():\n",
    "    #fit each model from models on training model\n",
    "    model.fit(x_train,y_train)\n",
    "\n",
    "    #make prediction on each model\n",
    "    y_pred=model.predict(x_test)\n",
    "    \n",
    "      # Evaluate each model\n",
    "    mse = mean_squared_error(y_test, y_pred)\n",
    "    mae = mean_absolute_error(y_test, y_pred)\n",
    "    r2 = r2_score(y_test, y_pred)\n",
    "\n",
    "    # Store metric values for each model\n",
    "    metric_values[name] = {'mse': mse, 'mae': mae, 'r2_score': r2}\n",
    "\n",
    "    # Print evaluation metrics\n",
    "    print(name, \"mean squared error:\", mse)\n",
    "    print(name, \"mean absolute error:\", mae)\n",
    "    print(name, \"r2 score:\", r2)\n",
    "    print()\n",
    "\n",
    "# Find the best model based on each metric\n",
    "best_model_mse = min(metric_values, key=lambda x: metric_values[x]['mse'])\n",
    "best_model_mae = min(metric_values, key=lambda x: metric_values[x]['mae'])\n",
    "best_model_r2 = max(metric_values, key=lambda x: metric_values[x]['r2_score'])\n",
    "\n",
    "print(\"Best Model based on MSE:\", best_model_mse)\n",
    "print(\"Best Model based on MAE:\", best_model_mae)\n",
    "print(\"Best Model based on R2 Score:\", best_model_r2)\n"
   ]
  },
  {
   "attachments": {},
   "cell_type": "markdown",
   "metadata": {},
   "source": [
    "# Hyperparameter tunning and pipline"
   ]
  },
  {
   "cell_type": "code",
   "execution_count": null,
   "metadata": {},
   "outputs": [],
   "source": [
    "#creating a dictionary of models to valuate\n",
    "models = {\n",
    "        'Linear Regression' : (LinearRegression(),{}),\n",
    "\n",
    "        'SVR' : (SVR(),{'kerla':['rbf','poly','sigmoid'], 'C':[0.1,1,10],'gamma':[1,0.1,0.01], 'epsilon':[0.1,0.01,0.001]}),\n",
    "\n",
    "        'Decision Tree' :(DecisionTreeRegressor(),{'splitter':['best','random'],'max_depth':['None',5,10]}),\n",
    "\n",
    "        'Random Forest' : (RandomForestRegressor(),{'n_estimators':[10,50,100],'max_depth':['None',5,10]}),\n",
    "\n",
    "        'KNN' : (KNeighborsRegressor(),{'n_neighbors':np.arange(3,100, 3),'weights':['uniform','distance'],'algorithm':['auto','ball_tree','kd_tree','brute']}), \n",
    "\n",
    "        'AdaBoost' : (AdaBoostRegressor(),{'n_neighbors': np.arange(3,100, 3),'loss':['linear','square','exponential'],'learning_rate':[0.1,0.01,0.001],'n_estimators':[10,100,200]}),\n",
    "        \n",
    "        'Gradient Boosting' : (GradientBoostingRegressor(),{'n_neighbors': np.arange(3,100, 3),'loss':['ls','lad','huber','quantile'],'learning_rate':[0.1,0.01,0.001],'n_estimators':[10,100,200]})\n",
    "        }\n",
    "\n",
    "        \n",
    "#train and predict each model with evaluation metric as well making a for loop\n",
    "metric_values = {}\n",
    "for name , (model, params) in models.items():\n",
    "    #create a pipeline\n",
    "    pipeline=GridSearchCV(model,params,cv=5)\n",
    "\n",
    "    #fit pipeline\n",
    "    pipeline.fit(x_train,y_train)\n",
    "\n",
    "   \n",
    "    #make prediction on each model\n",
    "    y_pred=pipeline.predict(x_test)\n",
    "    \n",
    "      # Evaluate each model\n",
    "    mse = mean_squared_error(y_test, y_pred)\n",
    "    mae = mean_absolute_error(y_test, y_pred)\n",
    "    r2 = r2_score(y_test, y_pred)\n",
    "\n",
    "    # Store metric values for each model\n",
    "    metric_values[name] = {'mse': mse, 'mae': mae, 'r2_score': r2}\n",
    "\n",
    "    # Print evaluation metrics\n",
    "    print(name, \"mean squared error:\", mse)\n",
    "    print(name, \"mean absolute error:\", mae)\n",
    "    print(name, \"r2 score:\", r2)\n",
    "    print()\n",
    "\n",
    "# Find the best model based on each metric\n",
    "best_model_mse = min(metric_values, key=lambda x: metric_values[x]['mse'])\n",
    "best_model_mae = min(metric_values, key=lambda x: metric_values[x]['mae'])\n",
    "best_model_r2 = max(metric_values, key=lambda x: metric_values[x]['r2_score'])\n",
    "\n",
    "print(\"Best Model based on MSE:\", best_model_mse)\n",
    "print(\"Best Model based on MAE:\", best_model_mae)\n",
    "print(\"Best Model based on R2 Score:\", best_model_r2)"
   ]
  },
  {
   "attachments": {},
   "cell_type": "markdown",
   "metadata": {},
   "source": [
    "## Add preprocessor inside the pipeline"
   ]
  },
  {
   "cell_type": "code",
   "execution_count": null,
   "metadata": {},
   "outputs": [],
   "source": [
    "#make a preprocessor\n",
    "preprocessor=ColumnTransformer(\n",
    "    transformers=['numeric_scaling', StandardScaler(),['total_bill', 'size']],remainder='passthrough')\n",
    "\n",
    "\n",
    "#creating a dictionary of models to valuate\n",
    "models = {\n",
    "        'Linear Regression' : (LinearRegression(),{}),\n",
    "\n",
    "        'SVR' : (SVR(),{'kerla':['rbf','poly','sigmoid'], 'C':[0.1,1,10],'gamma':[1,0.1,0.01], 'epsilon':[0.1,0.01,0.001]}),\n",
    "\n",
    "        'Decision Tree' :(DecisionTreeRegressor(),{'splitter':['best','random'],'max_depth':['None',5,10]}),\n",
    "\n",
    "        'Random Forest' : (RandomForestRegressor(),{'n_estimators':[10,50,100],'max_depth':['None',5,10]}),\n",
    "\n",
    "        'KNN' : (KNeighborsRegressor(),{'n_neighbors':np.arange(3,100, 3),'weights':['uniform','distance'],'algorithm':['auto','ball_tree','kd_tree','brute']}), \n",
    "\n",
    "        'AdaBoost' : (AdaBoostRegressor(),{'n_neighbors': np.arange(3,100, 3),'loss':['linear','square','exponential'],'learning_rate':[0.1,0.01,0.001],'n_estimators':[10,100,200]}),\n",
    "        \n",
    "        'Gradient Boosting' : (GradientBoostingRegressor(),{'n_neighbors': np.arange(3,100, 3),'loss':['ls','lad','huber','quantile'],'learning_rate':[0.1,0.01,0.001],'n_estimators':[10,100,200]})\n",
    "        }\n",
    "\n",
    "        \n",
    "#train and predict each model with evaluation metric as well making a for loop\n",
    "metric_values = {}\n",
    "for name , (model, params) in models.items():\n",
    "    #create a pipeline  with preprocessor\n",
    "    pipeline=Pipeline(steps=[('preprocessor', preprocessor),('model',model)])\n",
    "\n",
    "    #grid search cross validation\n",
    "    grid_search=GridSearchCV(pipeline,params,cv=5)\n",
    "\n",
    "    #fit pipeline\n",
    "    grid_search.fit(x_train,y_train)\n",
    "\n",
    "   \n",
    "    #make prediction on each model\n",
    "    y_pred=grid_search.predict(x_test)\n",
    "    \n",
    "      # Evaluate each model\n",
    "    mse = mean_squared_error(y_test, y_pred)\n",
    "    mae = mean_absolute_error(y_test, y_pred)\n",
    "    r2 = r2_score(y_test, y_pred)\n",
    "\n",
    "    # Store metric values for each model\n",
    "    metric_values[name] = {'mse': mse, 'mae': mae, 'r2_score': r2}\n",
    "\n",
    "    # Print evaluation metrics\n",
    "    print(name, \"mean squared error:\", mse)\n",
    "    print(name, \"mean absolute error:\", mae)\n",
    "    print(name, \"r2 score:\", r2)\n",
    "    print()\n",
    "\n",
    "# Find the best model based on each metric\n",
    "best_model_mse = min(metric_values, key=lambda x: metric_values[x]['mse'])\n",
    "best_model_mae = min(metric_values, key=lambda x: metric_values[x]['mae'])\n",
    "best_model_r2 = max(metric_values, key=lambda x: metric_values[x]['r2_score'])\n",
    "\n",
    "print(\"Best Model based on MSE:\", best_model_mse)\n",
    "print(\"Best Model based on MAE:\", best_model_mae)\n",
    "print(\"Best Model based on R2 Score:\", best_model_r2)"
   ]
  },
  {
   "attachments": {},
   "cell_type": "markdown",
   "metadata": {},
   "source": [
    "## k-fold cross validation on classifier problem\n"
   ]
  },
  {
   "cell_type": "code",
   "execution_count": 27,
   "metadata": {},
   "outputs": [
    {
     "name": "stderr",
     "output_type": "stream",
     "text": [
      "c:\\Users\\Haseeb\\anaconda3\\envs\\machine_learning\\Lib\\site-packages\\sklearn\\linear_model\\_logistic.py:458: ConvergenceWarning: lbfgs failed to converge (status=1):\n",
      "STOP: TOTAL NO. of ITERATIONS REACHED LIMIT.\n",
      "\n",
      "Increase the number of iterations (max_iter) or scale the data as shown in:\n",
      "    https://scikit-learn.org/stable/modules/preprocessing.html\n",
      "Please also refer to the documentation for alternative solver options:\n",
      "    https://scikit-learn.org/stable/modules/linear_model.html#logistic-regression\n",
      "  n_iter_i = _check_optimize_result(\n",
      "c:\\Users\\Haseeb\\anaconda3\\envs\\machine_learning\\Lib\\site-packages\\sklearn\\linear_model\\_logistic.py:458: ConvergenceWarning: lbfgs failed to converge (status=1):\n",
      "STOP: TOTAL NO. of ITERATIONS REACHED LIMIT.\n",
      "\n",
      "Increase the number of iterations (max_iter) or scale the data as shown in:\n",
      "    https://scikit-learn.org/stable/modules/preprocessing.html\n",
      "Please also refer to the documentation for alternative solver options:\n",
      "    https://scikit-learn.org/stable/modules/linear_model.html#logistic-regression\n",
      "  n_iter_i = _check_optimize_result(\n"
     ]
    },
    {
     "name": "stdout",
     "output_type": "stream",
     "text": [
      "Classifier: Logistic Regression\n",
      "Mean Accuracy: 0.9733333333333334\n",
      "\n",
      "Classifier: Decision Tree\n",
      "Mean Accuracy: 0.9533333333333335\n",
      "\n",
      "Classifier: Random Forest\n",
      "Mean Accuracy: 0.9600000000000002\n",
      "\n",
      "Classifier: SVM\n",
      "Mean Accuracy: 0.9666666666666668\n",
      "\n",
      "Classifier: kNN\n",
      "Mean Accuracy: 0.9733333333333334\n",
      "\n"
     ]
    }
   ],
   "source": [
    "from sklearn.model_selection import cross_val_score\n",
    "from sklearn.model_selection import KFold\n",
    "from sklearn.linear_model import LogisticRegression\n",
    "from sklearn.tree import DecisionTreeClassifier\n",
    "from sklearn.ensemble import RandomForestClassifier\n",
    "from sklearn.svm import SVC\n",
    "from sklearn.neighbors import KNeighborsClassifier\n",
    "\n",
    "# Define the classifiers\n",
    "classifiers = {\n",
    "    'Logistic Regression': LogisticRegression(),\n",
    "    'Decision Tree': DecisionTreeClassifier(),\n",
    "    'Random Forest': RandomForestClassifier(),\n",
    "    'SVM': SVC(),\n",
    "    'kNN': KNeighborsClassifier()\n",
    "}\n",
    "\n",
    "# Create the KFold object\n",
    "kfold = KFold(n_splits=5, shuffle=True, random_state=42)\n",
    "\n",
    "# Iterate over the classifiers\n",
    "for name, classifier in classifiers.items():\n",
    "    # Perform cross-validation\n",
    "    scores = cross_val_score(classifier, X, y, cv=kfold)\n",
    "    accuracy = np.mean(scores)\n",
    "    \n",
    "    # Print the results\n",
    "    print(\"Classifier:\", name)\n",
    "    print(\"Mean Accuracy:\", accuracy)\n",
    "    print()\n"
   ]
  },
  {
   "cell_type": "code",
   "execution_count": null,
   "metadata": {},
   "outputs": [],
   "source": []
  }
 ],
 "metadata": {
  "kernelspec": {
   "display_name": "machine_learning",
   "language": "python",
   "name": "python3"
  },
  "language_info": {
   "codemirror_mode": {
    "name": "ipython",
    "version": 3
   },
   "file_extension": ".py",
   "mimetype": "text/x-python",
   "name": "python",
   "nbconvert_exporter": "python",
   "pygments_lexer": "ipython3",
   "version": "3.11.3"
  },
  "orig_nbformat": 4
 },
 "nbformat": 4,
 "nbformat_minor": 2
}
